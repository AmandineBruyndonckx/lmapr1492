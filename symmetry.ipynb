{
 "cells": [
  {
   "cell_type": "markdown",
   "id": "c4e89244",
   "metadata": {},
   "source": [
    "# Analyse des symétries de la maille conventionnelle du CaCN2\n",
    "## Chargement des modules et des fichiers"
   ]
  },
  {
   "cell_type": "code",
   "execution_count": 1,
   "id": "e1a07950",
   "metadata": {},
   "outputs": [],
   "source": [
    "import numpy as np\n",
    "import pandas as pd\n",
    "from mp_api.client import MPRester\n",
    "from pymatgen.symmetry.analyzer import SpacegroupAnalyzer\n",
    "from jupyter_jsmol.pymatgen import quick_view\n",
    "from plotly.subplots import make_subplots\n",
    "import plotly.graph_objects as go"
   ]
  },
  {
   "cell_type": "code",
   "execution_count": 2,
   "id": "d496dba3",
   "metadata": {},
   "outputs": [],
   "source": [
    "mp_key = \"wjMeCvxez5rqgsz8tYQIQIC7njLkvYiq\"\n",
    "mp_id = \"mp-4124\""
   ]
  },
  {
   "cell_type": "code",
   "execution_count": 3,
   "id": "b1a6931a",
   "metadata": {},
   "outputs": [
    {
     "name": "stdout",
     "output_type": "stream",
     "text": [
      "Téléchargement du fichier\n"
     ]
    },
    {
     "data": {
      "application/vnd.jupyter.widget-view+json": {
       "model_id": "7b9e2aa4435a488cb06b2d6c390fd33c",
       "version_major": 2,
       "version_minor": 0
      },
      "text/plain": [
       "Retrieving MaterialsDoc documents:   0%|          | 0/1 [00:00<?, ?it/s]"
      ]
     },
     "metadata": {},
     "output_type": "display_data"
    },
    {
     "name": "stdout",
     "output_type": "stream",
     "text": [
      "Téléchargement effectué avec succès\n"
     ]
    }
   ],
   "source": [
    "print(\"Téléchargement du fichier\")\n",
    "with MPRester(mp_key) as m:\n",
    "    prim_struc = m.get_structure_by_material_id(mp_id)\n",
    "print(\"Téléchargement effectué avec succès\")\n",
    "\n",
    "conv_struc = SpacegroupAnalyzer(prim_struc).get_conventional_standard_structure()\n",
    "analyze_struc = SpacegroupAnalyzer(conv_struc)\n"
   ]
  },
  {
   "cell_type": "code",
   "execution_count": 16,
   "id": "8716d2ff",
   "metadata": {},
   "outputs": [
    {
     "data": {
      "application/vnd.jupyter.widget-view+json": {
       "model_id": "18a337252a324e0a92e23721d582ad9d",
       "version_major": 2,
       "version_minor": 0
      },
      "text/plain": [
       "JsmolView(layout=Layout(align_self='stretch', height='400px'))"
      ]
     },
     "metadata": {},
     "output_type": "display_data"
    }
   ],
   "source": [
    "view = quick_view(conv_struc, \"packed\", conventional = True)\n",
    "display(view)\n",
    "view.script('select calcium; color lightsalmon')\n",
    "view.script('select carbon; color gold')\n",
    "view.script('select nitrogen; color palegreen')"
   ]
  },
  {
   "cell_type": "markdown",
   "id": "9cef4ba5",
   "metadata": {},
   "source": [
    "## Récupérationd es positions des atomes et des symétries\n",
    "\n",
    "Le CaCN2 appartient au groupe R$\\bar{3}$m, qui est le groupe numéro 166. Analysons 3 symétries sur 3 atomes différents qui font partie de la maille conventionnelle."
   ]
  },
  {
   "cell_type": "code",
   "execution_count": 5,
   "id": "be108371",
   "metadata": {},
   "outputs": [
    {
     "name": "stdout",
     "output_type": "stream",
     "text": [
      "Atome 0: Ca, \n",
      " Coordonnées fractionnaires: [0. 0. 0.], \n",
      " Coordonnées cartésiennes :[0. 0. 0.]\n",
      "Atome 1: Ca, \n",
      " Coordonnées fractionnaires: [0.66666667 0.33333333 0.33333333], \n",
      " Coordonnées cartésiennes :[ 1.84652782 -1.06609334  4.9387747 ]\n",
      "Atome 2: Ca, \n",
      " Coordonnées fractionnaires: [0.33333333 0.66666667 0.66666667], \n",
      " Coordonnées cartésiennes :[1.84652782 1.06609334 9.87754941]\n",
      "Atome 3: C, \n",
      " Coordonnées fractionnaires: [0.33333333 0.66666667 0.16666667], \n",
      " Coordonnées cartésiennes :[1.84652782 1.06609334 2.46938735]\n",
      "Atome 4: C, \n",
      " Coordonnées fractionnaires: [1.  1.  0.5], \n",
      " Coordonnées cartésiennes :[ 3.69305565e+00 -4.44089210e-16  7.40816206e+00]\n",
      "Atome 5: C, \n",
      " Coordonnées fractionnaires: [0.66666667 0.33333333 0.83333333], \n",
      " Coordonnées cartésiennes :[ 1.84652782 -1.06609334 12.34693676]\n",
      "Atome 6: N, \n",
      " Coordonnées fractionnaires: [0.33333333 0.66666667 0.08363866], \n",
      " Coordonnées cartésiennes :[1.84652782 1.06609334 1.23921745]\n",
      "Atome 7: N, \n",
      " Coordonnées fractionnaires: [0.33333333 0.66666667 0.24969468], \n",
      " Coordonnées cartésiennes :[1.84652782 1.06609334 3.69955726]\n",
      "Atome 8: N, \n",
      " Coordonnées fractionnaires: [0.         0.         0.41697199], \n",
      " Coordonnées cartésiennes :[0.         0.         6.17799215]\n",
      "Atome 9: N, \n",
      " Coordonnées fractionnaires: [0.         0.         0.58302801], \n",
      " Coordonnées cartésiennes :[0.         0.         8.63833196]\n",
      "Atome 10: N, \n",
      " Coordonnées fractionnaires: [0.66666667 0.33333333 0.75030532], \n",
      " Coordonnées cartésiennes :[ 1.84652782 -1.06609334 11.11676685]\n",
      "Atome 11: N, \n",
      " Coordonnées fractionnaires: [0.66666667 0.33333333 0.91636134], \n",
      " Coordonnées cartésiennes :[ 1.84652782 -1.06609334 13.57710667]\n"
     ]
    }
   ],
   "source": [
    "#Sites des atomes dans la maille cristalline \n",
    "sites = conv_struc.sites\n",
    "for i in range(len(sites)):  # Parcours de tous les sites\n",
    "    print(f\"Atome {i}: {sites[i].specie}, \\n Coordonnées fractionnaires: {sites[i].frac_coords}, \\n Coordonnées cartésiennes :{conv_struc.lattice.get_cartesian_coords(sites[i].frac_coords)}\")\n",
    "    \n",
    "#On choisit les coordonnées de 1Ca, 1C et 1N\n",
    "Ca_pos = sites[1].frac_coords\n",
    "C_pos = sites[3].frac_coords\n",
    "N_pos = sites[11].frac_coords\n",
    "\n",
    "#Opérations de symétries ponctuelles\n",
    "symmops = SpacegroupAnalyzer(conv_struc).get_point_group_operations()\n"
   ]
  },
  {
   "cell_type": "markdown",
   "id": "04bdba3c",
   "metadata": {},
   "source": [
    "# Première symétrie\n",
    "J'ai choisi d'appliquer une inversion $\\bar{1}$. Il s'agit d'une inversion centrale. Cette opération transforme des coordonnées (x, y, z) en (-x, -y, -z). La matrice de cette opération est  \\begin{pmatrix} -1& 0&0 \\\\\n",
    "0&-1&0 \\\\ 0&0&-1 \n",
    "\\end{pmatrix}\n",
    "Appliquons cette opération sur le Ca que nous avons choisi"
   ]
  },
  {
   "cell_type": "code",
   "execution_count": 6,
   "id": "50ae3da5",
   "metadata": {},
   "outputs": [
    {
     "name": "stdout",
     "output_type": "stream",
     "text": [
      "Matrice de transformation et vecteur tau\n",
      "Rot:\n",
      "[[-1.  0.  0.]\n",
      " [ 0. -1.  0.]\n",
      " [ 0.  0. -1.]]\n",
      "tau\n",
      "[0. 0. 0.]\n",
      "Coordonnées initiales d'un atome Ca\n",
      "[0.66666667 0.33333333 0.33333333]\n",
      "Coordonnées après avoir appliqué la symétrie\n",
      "[-0.66666667 -0.33333333 -0.33333333]\n"
     ]
    }
   ],
   "source": [
    "i_symmop1 = 2\n",
    "sym1 = symmops[i_symmop1-1]\n",
    "\n",
    "#Matrice de rotation et vecteur tau\n",
    "print(\"Matrice de transformation et vecteur tau\")\n",
    "print(sym1)\n",
    "\n",
    "#Coordonnées du Ca\n",
    "print(\"Coordonnées initiales d'un atome Ca\")\n",
    "print(Ca_pos)\n",
    "\n",
    "#Coordonnées après l'opération\n",
    "print(\"Coordonnées après avoir appliqué la symétrie\")\n",
    "Op_Ca = sym1.operate(Ca_pos)\n",
    "print(Op_Ca)"
   ]
  },
  {
   "cell_type": "markdown",
   "id": "1d5766c5",
   "metadata": {},
   "source": [
    "On remarque qu'on arrive bien à (-x, -y, -z). Si on remet les coordonnées obtenues dans la maille (qui va de 0 à 1 pour les coordonnées en x y et z), on tombe sur (0.333  0.667  0.667), ce qui correspond aux coordonnées de l'atome 3, qui est un atome de Ca. Cela nous permet de vérifier la symétrie. "
   ]
  },
  {
   "cell_type": "code",
   "execution_count": 7,
   "id": "81b850a9",
   "metadata": {
    "scrolled": true
   },
   "outputs": [
    {
     "data": {
      "application/vnd.jupyter.widget-view+json": {
       "model_id": "5cfa8abb268b4d5f8271508f1ff7121f",
       "version_major": 2,
       "version_minor": 0
      },
      "text/plain": [
       "JsmolView(layout=Layout(align_self='stretch', height='400px'))"
      ]
     },
     "metadata": {},
     "output_type": "display_data"
    }
   ],
   "source": [
    "#Affichage de la symétrie\n",
    "view1 = quick_view(prim_struc, \"packed\", conventional = True)\n",
    "display(view1)\n",
    "view1.script('select calcium; color lightsalmon')\n",
    "view1.script('select carbon; color gold')\n",
    "view1.script('select nitrogen; color palegreen')\n",
    "view1.script('draw SYMOP ' + str(i_symmop1) + ' {atomno = ' + str(6)+ '}')"
   ]
  },
  {
   "cell_type": "markdown",
   "id": "4386af12",
   "metadata": {},
   "source": [
    "Grâce à JsMol, nous pouvons visualiser l'inversion autour du centre de symétrie, qui est l'atome de Ca à la position (0,0,0)"
   ]
  },
  {
   "cell_type": "markdown",
   "id": "c320f74b",
   "metadata": {},
   "source": [
    "# Deuxième symétrie \n",
    "J'ai choisi d'appliquer une rotation d'ordre 3 autour de l'axe z $[0,0,1]$. Cette opération transforme des coordonnées (x, y, z) en (-y, x-y, z). La matrice de cette transformation est \\begin{pmatrix} 0& -1&0 \\\\1&-1&0 \\\\ 0&0&1 \n",
    "\\end{pmatrix}. \n",
    "Appliquons cette transformation à l'atome C sélectionné. "
   ]
  },
  {
   "cell_type": "code",
   "execution_count": 8,
   "id": "36fe4954",
   "metadata": {},
   "outputs": [
    {
     "name": "stdout",
     "output_type": "stream",
     "text": [
      "Matrice de transformation et vecteur tau\n",
      "Rot:\n",
      "[[ 0. -1.  0.]\n",
      " [ 1. -1.  0.]\n",
      " [ 0.  0.  1.]]\n",
      "tau\n",
      "[0. 0. 0.]\n",
      "Coordonnées initiales d'un atome C\n",
      "[0.33333333 0.66666667 0.16666667]\n",
      "Coordonnées après avoir appliqué la symétrie\n",
      "[-0.66666667 -0.33333333  0.16666667]\n"
     ]
    }
   ],
   "source": [
    "i_symmop2 =3\n",
    "sym2 = symmops[i_symmop2-1]\n",
    "\n",
    "#Matrice de rotation et vecteur tau\n",
    "print(\"Matrice de transformation et vecteur tau\")\n",
    "print(sym2)\n",
    "\n",
    "#Coordonnées du C\n",
    "print(\"Coordonnées initiales d'un atome C\")\n",
    "print(C_pos)\n",
    "\n",
    "#Coordonnées après l'opération\n",
    "print(\"Coordonnées après avoir appliqué la symétrie\")\n",
    "Op_C = sym2.operate(C_pos)\n",
    "print(Op_C)"
   ]
  },
  {
   "cell_type": "markdown",
   "id": "f3ceed78",
   "metadata": {},
   "source": [
    "On arrive bien aux coordonnées (-y, x-y, z). Si on cherche dans les sites occupés par les atomes, on constate qu'on tombe bien sur un atome le même atome de C. "
   ]
  },
  {
   "cell_type": "code",
   "execution_count": 9,
   "id": "83e7d275",
   "metadata": {},
   "outputs": [
    {
     "data": {
      "application/vnd.jupyter.widget-view+json": {
       "model_id": "f780a89952d74235b65125f13bf9414c",
       "version_major": 2,
       "version_minor": 0
      },
      "text/plain": [
       "JsmolView(layout=Layout(align_self='stretch', height='400px'))"
      ]
     },
     "metadata": {},
     "output_type": "display_data"
    }
   ],
   "source": [
    "#Affichage de la symétrie\n",
    "view2 = quick_view(prim_struc, \"packed\", conventional = True)\n",
    "display(view2)\n",
    "view2.script('select calcium; color lightsalmon')\n",
    "view2.script('select carbon; color gold')\n",
    "view2.script('select nitrogen; color palegreen')\n",
    "view2.script('draw SYMOP ' + str(i_symmop2) + ' {atomno = ' + str(2) + '}')"
   ]
  },
  {
   "cell_type": "markdown",
   "id": "a2485a6f",
   "metadata": {},
   "source": [
    "# Troisième symétrie \n",
    "Pour terminer, j'ai choisi d'appliquer une roto-inversiond'ordre 3 ($\\bar{3}$). Nous allons l'appliquer à l'atome N sélectionné ci-dessus. La matrice de cette transformation est \\begin{pmatrix} 0& 1&0 \\\\-1&1&0 \\\\ 0&0&-1 \n",
    "\\end{pmatrix}. On a une transformation qui correspond à une rotation de 120° suivie d'une réflexion. Cette rotoinversion est parallèle à la direction $[0 0 1]$. On envoie donc les coordonnées (x, y, z) vers (y, -x+y, -z). "
   ]
  },
  {
   "cell_type": "code",
   "execution_count": 10,
   "id": "9dbad7b3",
   "metadata": {},
   "outputs": [
    {
     "name": "stdout",
     "output_type": "stream",
     "text": [
      "Matrice de transformation et vecteur tau\n",
      "Rot:\n",
      "[[ 0.  1.  0.]\n",
      " [-1.  1.  0.]\n",
      " [ 0.  0. -1.]]\n",
      "tau\n",
      "[0. 0. 0.]\n",
      "Coordonnées initiales d'un atome N\n",
      "[0.66666667 0.33333333 0.91636134]\n",
      "Coordonnées après avoir appliqué la symétrie\n",
      "[ 0.33333333 -0.33333333 -0.91636134]\n"
     ]
    }
   ],
   "source": [
    "#Affichage de la symétrie\n",
    "i_symmop3 =4\n",
    "sym3 = symmops[i_symmop3-1]\n",
    "\n",
    "#Matrice de rotation et vecteur tau\n",
    "print(\"Matrice de transformation et vecteur tau\")\n",
    "print(sym3)\n",
    "\n",
    "#Coordonnées du C\n",
    "print(\"Coordonnées initiales d'un atome N\")\n",
    "print(N_pos)\n",
    "\n",
    "#Coordonnées après l'opération\n",
    "print(\"Coordonnées après avoir appliqué la symétrie\")\n",
    "Op_N = sym3.operate(N_pos)\n",
    "print(Op_N)"
   ]
  },
  {
   "cell_type": "markdown",
   "id": "39417cf6",
   "metadata": {},
   "source": [
    "On arrive aux coordonnées $(0.33, 0.67, 0.08)$ qui correspondent également aux coordonnées d'un atome de N dans la maille conventionnelle. "
   ]
  },
  {
   "cell_type": "code",
   "execution_count": 13,
   "id": "e2404947",
   "metadata": {},
   "outputs": [
    {
     "data": {
      "application/vnd.jupyter.widget-view+json": {
       "model_id": "5f04e274158c4daaa94ea8e953abb405",
       "version_major": 2,
       "version_minor": 0
      },
      "text/plain": [
       "JsmolView(layout=Layout(align_self='stretch', height='400px'))"
      ]
     },
     "metadata": {},
     "output_type": "display_data"
    }
   ],
   "source": [
    "#Affichage de la symétrie\n",
    "view3 = quick_view(prim_struc, \"packed\", conventional = True)\n",
    "display(view3)\n",
    "view3.script('select calcium; color lightsalmon')\n",
    "view3.script('select carbon; color gold')\n",
    "view3.script('select nitrogen; color palegreen')\n",
    "view3.script('draw SYMOP ' + str(i_symmop3) + ' {atomno = ' + str(9) + '}')"
   ]
  },
  {
   "cell_type": "code",
   "execution_count": null,
   "id": "9448caba",
   "metadata": {},
   "outputs": [],
   "source": []
  }
 ],
 "metadata": {
  "kernelspec": {
   "display_name": "Python 3 (ipykernel)",
   "language": "python",
   "name": "python3"
  },
  "language_info": {
   "codemirror_mode": {
    "name": "ipython",
    "version": 3
   },
   "file_extension": ".py",
   "mimetype": "text/x-python",
   "name": "python",
   "nbconvert_exporter": "python",
   "pygments_lexer": "ipython3",
   "version": "3.9.13"
  }
 },
 "nbformat": 4,
 "nbformat_minor": 5
}
