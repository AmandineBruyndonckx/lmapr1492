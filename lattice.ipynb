{
 "cells": [
  {
   "cell_type": "markdown",
   "id": "f5cb79bc",
   "metadata": {},
   "source": [
    "# Analyse de la maille cristalline du CaCN2\n",
    "## Chargement des modules et du fichier"
   ]
  },
  {
   "cell_type": "code",
   "execution_count": 1,
   "id": "c5603dc2",
   "metadata": {},
   "outputs": [],
   "source": [
    "import numpy as np\n",
    "import pandas as pd\n",
    "from mp_api.client import MPRester\n",
    "from pymatgen.symmetry.analyzer import SpacegroupAnalyzer\n",
    "from jupyter_jsmol.pymatgen import quick_view\n",
    "from plotly.subplots import make_subplots\n",
    "import plotly.graph_objects as go"
   ]
  },
  {
   "cell_type": "code",
   "execution_count": 2,
   "id": "d0915637",
   "metadata": {},
   "outputs": [],
   "source": [
    "mp_key = \"wjMeCvxez5rqgsz8tYQIQIC7njLkvYiq\"\n",
    "mp_id = \"mp-4124\""
   ]
  },
  {
   "cell_type": "code",
   "execution_count": 3,
   "id": "cfc40ed7",
   "metadata": {},
   "outputs": [
    {
     "name": "stdout",
     "output_type": "stream",
     "text": [
      "Téléchargement du fichier\n"
     ]
    },
    {
     "data": {
      "application/vnd.jupyter.widget-view+json": {
       "model_id": "558e3652dfcb47deaa12e4eae2b7a023",
       "version_major": 2,
       "version_minor": 0
      },
      "text/plain": [
       "Retrieving MaterialsDoc documents:   0%|          | 0/1 [00:00<?, ?it/s]"
      ]
     },
     "metadata": {},
     "output_type": "display_data"
    },
    {
     "name": "stdout",
     "output_type": "stream",
     "text": [
      "Téléchargement effectué avec succès\n"
     ]
    }
   ],
   "source": [
    "print(\"Téléchargement du fichier\")\n",
    "with MPRester(mp_key) as m:\n",
    "    prim_struc = m.get_structure_by_material_id(mp_id)\n",
    "print(\"Téléchargement effectué avec succès\")"
   ]
  },
  {
   "cell_type": "markdown",
   "id": "85397c03",
   "metadata": {},
   "source": [
    "## Analyse des paramères de la maille cristalline"
   ]
  },
  {
   "cell_type": "code",
   "execution_count": 4,
   "id": "82ea0033",
   "metadata": {},
   "outputs": [],
   "source": [
    "spaceAnalyzer = SpacegroupAnalyzer(prim_struc)\n",
    "#Obtenir la structure\n",
    "data = spaceAnalyzer.get_primitive_standard_structure()\n",
    "data2 = spaceAnalyzer.get_conventional_standard_structure()"
   ]
  },
  {
   "cell_type": "code",
   "execution_count": 5,
   "id": "0c5949e0",
   "metadata": {},
   "outputs": [
    {
     "name": "stdout",
     "output_type": "stream",
     "text": [
      "lattice type = rhombohedral\n",
      "cristal system = trigonal\n",
      "poncual group = -3m\n"
     ]
    }
   ],
   "source": [
    "#Type de maille \n",
    "latticeType = spaceAnalyzer.get_lattice_type()\n",
    "print(\"lattice type =\",str(latticeType))\n",
    "#Système cristallin \n",
    "crystal_system = spaceAnalyzer.get_crystal_system()\n",
    "print(\"cristal system =\",str(crystal_system))\n",
    "#Groupe ponctuel\n",
    "group = spaceAnalyzer.get_point_group_symbol()\n",
    "print(\"poncual group =\",str(group))"
   ]
  },
  {
   "cell_type": "code",
   "execution_count": 6,
   "id": "a91006e6",
   "metadata": {},
   "outputs": [
    {
     "name": "stdout",
     "output_type": "stream",
     "text": [
      "Vecteurs du réseau direct maille primitive :\n",
      "[[ 5.05252913 -1.84652782  0.        ]\n",
      " [ 5.05252913  1.84652782  0.        ]\n",
      " [ 4.37768591  0.          3.12627281]]\n",
      "Vecteurs du réseau direct maille conventionnelle :\n",
      "[[ 1.84652782 -3.19828001  0.        ]\n",
      " [ 1.84652782  3.19828001  0.        ]\n",
      " [ 0.          0.         14.81632411]]\n"
     ]
    }
   ],
   "source": [
    "#Réseau direct primitif\n",
    "#Convertir dans le système rhomboédrique \n",
    "direct_Network = data.lattice\n",
    "print(\"Vecteurs du réseau direct maille primitive :\")\n",
    "print(direct_Network.matrix)\n",
    "#Réseau direct conventionnel\n",
    "direct_Network2 = data2.lattice\n",
    "print(\"Vecteurs du réseau direct maille conventionnelle :\")\n",
    "print(direct_Network2.matrix)"
   ]
  },
  {
   "cell_type": "code",
   "execution_count": 7,
   "id": "5b977bc9",
   "metadata": {},
   "outputs": [
    {
     "name": "stdout",
     "output_type": "stream",
     "text": [
      "Vecteurs du réseau réciproque maille primitive: \n",
      "[[ 0.62178615 -1.70135137 -0.87068041]\n",
      " [ 0.62178615  1.70135137 -0.87068041]\n",
      " [ 0.          0.          2.00980071]]\n",
      "Vecteurs du réseau réciproque maille conventionnelle: \n",
      "[[ 1.70135137 -0.98227567  0.        ]\n",
      " [ 1.70135137  0.98227567  0.        ]\n",
      " [ 0.          0.          0.4240718 ]]\n"
     ]
    }
   ],
   "source": [
    "#Réseau réciproque primitif\n",
    "reciprocal_Network = data.lattice.reciprocal_lattice\n",
    "print(\"Vecteurs du réseau réciproque maille primitive: \")\n",
    "print(reciprocal_Network.matrix)\n",
    "#Réseau réciproque conventionnel\n",
    "reciprocal_Network2 = data2.lattice.reciprocal_lattice\n",
    "print(\"Vecteurs du réseau réciproque maille conventionnelle: \")\n",
    "print(reciprocal_Network2.matrix)\n"
   ]
  },
  {
   "cell_type": "markdown",
   "id": "4700941f",
   "metadata": {},
   "source": [
    "## Affichage des résultats"
   ]
  },
  {
   "cell_type": "code",
   "execution_count": 8,
   "id": "41f04559",
   "metadata": {},
   "outputs": [
    {
     "name": "stdout",
     "output_type": "stream",
     "text": [
      "----Informations cristallographiques---- \n",
      "Type de maille                 rhombohedral\n",
      "Système cristallin             trigonal\n",
      "Groupe ponctuel                -3m\n",
      "\n",
      "-------Maille primitive------- \n",
      "----Réseau direct----          \n",
      "Vecteur a                      [ 5.05252913 -1.84652782  0.        ]\n",
      "Vecteur b                      [5.05252913 1.84652782 0.        ]\n",
      "Vecteur c                      [4.37768591 0.         3.12627281]\n",
      "Longueurs (a, b, c)            (5.379378735817053, 5.379378735817053, 5.379378735817053)\n",
      "Angles (α, β, γ)               (40.15128337588714, 40.15128337588714, 40.15128337588714)\n",
      "\n",
      "----Réseau réciproque----      \n",
      "Vecteur a*                     [ 0.62178615 -1.70135137 -0.87068041]\n",
      "Vecteur b*                     [ 0.62178615  1.70135137 -0.87068041]\n",
      "Vecteur c*                     [0.         0.         2.00980071]\n",
      "Longueurs (a*, b*, c*)         (2.009800710811831, 2.0098007108118314, 2.0098007108118314)\n",
      "Angles (α*, β*, γ*)            (115.67191115040721, 115.67191115040721, 115.67191115040721)\n",
      "\n",
      "-------Maille conventionnelle------- \n",
      "----Réseau direct----          \n",
      "Vecteur a                      [ 1.84652782 -3.19828001  0.        ]\n",
      "Vecteur b                      [1.84652782 3.19828001 0.        ]\n",
      "Vecteur c                      [ 0.          0.         14.81632411]\n",
      "Longueurs (a, b, c)            (3.693055649529556, 3.693055649529556, 14.8163241108812)\n",
      "Angles (α, β, γ)               (90.0, 90.0, 120.00000000000001)\n",
      "\n",
      "----Réseau réciproque----      \n",
      "Vecteur a*                     [ 1.70135137 -0.98227567  0.        ]\n",
      "Vecteur b*                     [1.70135137 0.98227567 0.        ]\n",
      "Vecteur c*                     [0.        0.        0.4240718]\n",
      "Longueurs (a*, b*, c*)         (1.9645513486538124, 1.9645513486538124, 0.424071804865903)\n",
      "Angles (α*, β*, γ*)            (90.0, 90.0, 60.00000000000001)\n"
     ]
    }
   ],
   "source": [
    "données =  [\n",
    "    (\"----Informations cristallographiques----\", \"\"),\n",
    "    (\"Type de maille\", latticeType),\n",
    "    (\"Système cristallin\", crystal_system),\n",
    "    (\"Groupe ponctuel\", group),\n",
    "    (\"\", \"\"),\n",
    "    (\"-------Maille primitive-------\", \"\"),\n",
    "    (\"----Réseau direct----\", \"\"),\n",
    "    (\"Vecteur a\", direct_Network.matrix[0]),\n",
    "    (\"Vecteur b\", direct_Network.matrix[1]),\n",
    "    (\"Vecteur c\", direct_Network.matrix[2]),\n",
    "    (\"Longueurs (a, b, c)\", direct_Network.abc),\n",
    "    (\"Angles (α, β, γ)\", direct_Network.angles),\n",
    "    (\"\", \"\"),\n",
    "    (\"----Réseau réciproque----\", \"\"),\n",
    "    (\"Vecteur a*\", reciprocal_Network.matrix[0]),\n",
    "    (\"Vecteur b*\", reciprocal_Network.matrix[1]),\n",
    "    (\"Vecteur c*\", reciprocal_Network.matrix[2]),\n",
    "    (\"Longueurs (a*, b*, c*)\", reciprocal_Network.abc),\n",
    "    (\"Angles (α*, β*, γ*)\", reciprocal_Network.angles),\n",
    "    (\"\", \"\"),\n",
    "    (\"-------Maille conventionnelle-------\",\"\"),\n",
    "    (\"----Réseau direct----\", \"\"),\n",
    "    (\"Vecteur a\", direct_Network2.matrix[0]),\n",
    "    (\"Vecteur b\", direct_Network2.matrix[1]),\n",
    "    (\"Vecteur c\", direct_Network2.matrix[2]),\n",
    "    (\"Longueurs (a, b, c)\", direct_Network2.abc),\n",
    "    (\"Angles (α, β, γ)\", direct_Network2.angles),\n",
    "    (\"\", \"\"),\n",
    "    (\"----Réseau réciproque----\", \"\"),\n",
    "    (\"Vecteur a*\", reciprocal_Network2.matrix[0]),\n",
    "    (\"Vecteur b*\", reciprocal_Network2.matrix[1]),\n",
    "    (\"Vecteur c*\", reciprocal_Network2.matrix[2]),\n",
    "    (\"Longueurs (a*, b*, c*)\", reciprocal_Network2.abc),\n",
    "    (\"Angles (α*, β*, γ*)\", reciprocal_Network2.angles),\n",
    "    \n",
    "]\n",
    "\n",
    "# Création du DataFrame\n",
    "df = pd.DataFrame(données, columns=[\"Propriété\", \"Valeur\"])\n",
    "\n",
    "for index, row in df.iterrows():\n",
    "    if row[\"Propriété\"] == \"\": \n",
    "        print()\n",
    "    else:\n",
    "        print(f\"{row['Propriété']: <30} {row['Valeur']}\")"
   ]
  },
  {
   "cell_type": "code",
   "execution_count": null,
   "id": "5cc4a17b",
   "metadata": {},
   "outputs": [],
   "source": []
  }
 ],
 "metadata": {
  "kernelspec": {
   "display_name": "Python 3 (ipykernel)",
   "language": "python",
   "name": "python3"
  },
  "language_info": {
   "codemirror_mode": {
    "name": "ipython",
    "version": 3
   },
   "file_extension": ".py",
   "mimetype": "text/x-python",
   "name": "python",
   "nbconvert_exporter": "python",
   "pygments_lexer": "ipython3",
   "version": "3.9.13"
  }
 },
 "nbformat": 4,
 "nbformat_minor": 5
}
