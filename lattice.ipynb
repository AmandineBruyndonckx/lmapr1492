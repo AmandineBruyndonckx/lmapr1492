{
 "cells": [
  {
   "cell_type": "markdown",
   "id": "f5cb79bc",
   "metadata": {},
   "source": [
    "# Analyse de la maille cristalline du CaCN2\n",
    "## Chargement des modules et du fichier"
   ]
  },
  {
   "cell_type": "code",
   "execution_count": 53,
   "id": "c5603dc2",
   "metadata": {},
   "outputs": [],
   "source": [
    "import numpy as np\n",
    "import pandas as pd\n",
    "from mp_api.client import MPRester\n",
    "from pymatgen.symmetry.analyzer import SpacegroupAnalyzer\n",
    "from jupyter_jsmol.pymatgen import quick_view\n",
    "from plotly.subplots import make_subplots\n",
    "import plotly.graph_objects as go"
   ]
  },
  {
   "cell_type": "code",
   "execution_count": 54,
   "id": "d0915637",
   "metadata": {},
   "outputs": [],
   "source": [
    "mp_key = \"wjMeCvxez5rqgsz8tYQIQIC7njLkvYiq\"\n",
    "mp_id = \"mp-4124\""
   ]
  },
  {
   "cell_type": "code",
   "execution_count": 55,
   "id": "cfc40ed7",
   "metadata": {},
   "outputs": [
    {
     "name": "stdout",
     "output_type": "stream",
     "text": [
      "Téléchargement du fichier\n"
     ]
    },
    {
     "data": {
      "application/vnd.jupyter.widget-view+json": {
       "model_id": "8d8985d5076049ae8180fa7033d56468",
       "version_major": 2,
       "version_minor": 0
      },
      "text/plain": [
       "Retrieving MaterialsDoc documents:   0%|          | 0/1 [00:00<?, ?it/s]"
      ]
     },
     "metadata": {},
     "output_type": "display_data"
    },
    {
     "name": "stdout",
     "output_type": "stream",
     "text": [
      "Téléchargement effectué avec succès\n"
     ]
    }
   ],
   "source": [
    "print(\"Téléchargement du fichier\")\n",
    "with MPRester(mp_key) as m:\n",
    "    prim_struc = m.get_structure_by_material_id(mp_id)\n",
    "print(\"Téléchargement effectué avec succès\")"
   ]
  },
  {
   "cell_type": "markdown",
   "id": "85397c03",
   "metadata": {},
   "source": [
    "## Analyse des paramères de la maille cristalline"
   ]
  },
  {
   "cell_type": "code",
   "execution_count": 56,
   "id": "82ea0033",
   "metadata": {},
   "outputs": [],
   "source": [
    "spaceAnalyzer = SpacegroupAnalyzer(prim_struc)\n",
    "\n"
   ]
  },
  {
   "cell_type": "code",
   "execution_count": 57,
   "id": "bc731955",
   "metadata": {},
   "outputs": [],
   "source": [
    "#Obtenir la structure\n",
    "data = spaceAnalyzer.get_primitive_standard_structure()\n",
    "\n",
    "#Paramètres de maille primitive\n",
    "a = data.lattice.a\n",
    "alpha = data.lattice.alpha"
   ]
  },
  {
   "cell_type": "code",
   "execution_count": 58,
   "id": "0c5949e0",
   "metadata": {},
   "outputs": [
    {
     "name": "stdout",
     "output_type": "stream",
     "text": [
      "lattice type = rhombohedral\n",
      "cristal system = trigonal\n",
      "poncual group = -3m\n"
     ]
    }
   ],
   "source": [
    "#Type de maille \n",
    "latticeType = spaceAnalyzer.get_lattice_type()\n",
    "print(\"lattice type =\",str(latticeType))\n",
    "#Système cristallin \n",
    "crystal_system = spaceAnalyzer.get_crystal_system()\n",
    "print(\"cristal system =\",str(crystal_system))\n",
    "#Groupe ponctuel\n",
    "group = spaceAnalyzer.get_point_group_symbol()\n",
    "print(\"poncual group =\",str(group))"
   ]
  },
  {
   "cell_type": "code",
   "execution_count": 59,
   "id": "a91006e6",
   "metadata": {},
   "outputs": [
    {
     "name": "stdout",
     "output_type": "stream",
     "text": [
      "Vecteurs du réseau direct : \n",
      "[[3.46866658 0.         4.11169889]\n",
      " [1.50268632 3.12627281 4.11169889]\n",
      " [0.         0.         5.37937874]]\n"
     ]
    }
   ],
   "source": [
    "#Réseau direct primitif\n",
    "#Convertir dans le système rhomboédrique \n",
    "direct_Network = spaceAnalyzer.find_primitive().lattice.rhombohedral(a, alpha)\n",
    "print(\"Vecteurs du réseau direct : \")\n",
    "print(direct_Network.matrix)\n"
   ]
  },
  {
   "cell_type": "code",
   "execution_count": 63,
   "id": "5b977bc9",
   "metadata": {},
   "outputs": [
    {
     "name": "stdout",
     "output_type": "stream",
     "text": [
      "Vecteurs du réseau réciproque : \n",
      "[[ 1.8114123  -0.87068041  0.        ]\n",
      " [ 0.          2.00980071  0.        ]\n",
      " [-1.38454314 -0.87068041  1.16801319]]\n"
     ]
    }
   ],
   "source": [
    "#Réseau réciproque primitif\n",
    "reciprocal_Network = spaceAnalyzer.find_primitive().lattice.rhombohedral(a,alpha).reciprocal_lattice\n",
    "print(\"Vecteurs du réseau réciproque : \")\n",
    "print(reciprocal_Network.matrix)\n"
   ]
  },
  {
   "cell_type": "code",
   "execution_count": null,
   "id": "f34211b7",
   "metadata": {},
   "outputs": [],
   "source": []
  },
  {
   "cell_type": "markdown",
   "id": "4700941f",
   "metadata": {},
   "source": [
    "## Affichage des résultats"
   ]
  },
  {
   "cell_type": "code",
   "execution_count": null,
   "id": "41f04559",
   "metadata": {},
   "outputs": [],
   "source": [
    "données =  [\n",
    "    (\"----Réseau direct maille primitive----\", \"\"),\n",
    "    (\"Vecteur a\", direct_Network.matrix[0]),\n",
    "    (\"Vecteur b\", direct_Network.matrix[1]),\n",
    "    (\"Vecteur c\", direct_Network.matrix[2]),\n",
    "    (\"Longueurs (a, b, c)\", direct_Network.abc),\n",
    "    (\"Angles (α, β, γ)\", direct_Network.angles),\n",
    "    (\"\", \"\"),\n",
    "    (\"----Réseau réciproque maille primitive----\", \"\"),\n",
    "    (\"Vecteur a*\", reciprocal_Network.matrix[0]),\n",
    "    (\"Vecteur b*\", reciprocal_Network.matrix[1]),\n",
    "    (\"Vecteur c*\", reciprocal_Network.matrix[2]),\n",
    "    (\"Longueurs (a*, b*, c*)\", reciprocal_Network.abc),\n",
    "    (\"Angles (α*, β*, γ*)\", reciprocal_Network.angles),\n",
    "    (\"\", \"\"),\n",
    "    (\"----Informations cristallographiques----\", \"\"),\n",
    "    (\"Type de maille\", latticeType),\n",
    "    (\"Système cristallin\", crystal_system),\n",
    "    (\"Groupe ponctuel\", group),\n",
    "]\n",
    "\n",
    "# Création du DataFrame\n",
    "df = pd.DataFrame(données, columns=[\"Propriété\", \"Valeur\"])\n",
    "\n",
    "for index, row in df.iterrows():\n",
    "    if row[\"Propriété\"] == \"\": \n",
    "        print()\n",
    "    else:\n",
    "        print(f\"{row['Propriété']: <30} {row['Valeur']}\")"
   ]
  },
  {
   "cell_type": "code",
   "execution_count": null,
   "id": "5cc4a17b",
   "metadata": {},
   "outputs": [],
   "source": []
  }
 ],
 "metadata": {
  "kernelspec": {
   "display_name": "Python 3 (ipykernel)",
   "language": "python",
   "name": "python3"
  },
  "language_info": {
   "codemirror_mode": {
    "name": "ipython",
    "version": 3
   },
   "file_extension": ".py",
   "mimetype": "text/x-python",
   "name": "python",
   "nbconvert_exporter": "python",
   "pygments_lexer": "ipython3",
   "version": "3.9.13"
  }
 },
 "nbformat": 4,
 "nbformat_minor": 5
}
